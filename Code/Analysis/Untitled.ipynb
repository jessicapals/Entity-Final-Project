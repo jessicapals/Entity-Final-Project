{
 "cells": [
  {
   "cell_type": "code",
   "execution_count": null,
   "id": "fec0d3a3-ab79-4aad-9bc7-7ef79f0ab1f1",
   "metadata": {},
   "outputs": [],
   "source": [
    "import matplotlib.pyplot as plt\n",
    "import pandas as pd\n",
    "from sklearn import datasets, neighbors\n",
    "from mlxtend.plotting import plot_decision_regions"
   ]
  },
  {
   "cell_type": "code",
   "execution_count": null,
   "id": "b3975940-a784-498b-9dee-19a7b6d53a6e",
   "metadata": {},
   "outputs": [],
   "source": [
    "def knn_comparison(data, k):\n",
    " x = data[[‘X’,’Y’]].values\n",
    " y = data[‘class’].astype(int).values\n",
    " clf = neighbors.KNeighborsClassifier(n_neighbors=k)\n",
    " clf.fit(x, y)\n",
    "    \n",
    "# Plotting decision region\n",
    " plot_decision_regions(x, y, clf=clf, legend=2)\n",
    "    \n",
    "# Adding axes annotations\n",
    " plt.xlabel(‘X’)\n",
    " plt.ylabel(‘Y’)\n",
    " plt.title(‘Knn with K=’+ str(k))\n",
    " plt.show()"
   ]
  },
  {
   "cell_type": "code",
   "execution_count": null,
   "id": "770364fa-6bb4-4b2e-998d-d1780ae552a6",
   "metadata": {},
   "outputs": [],
   "source": [
    "data1 = pd.read_csv(‘ushape.csv’)\n",
    "for i in [1,5,20,30,40,80]:\n",
    "    knn_comparison(data1, i)"
   ]
  }
 ],
 "metadata": {
  "kernelspec": {
   "display_name": "Python 3 (ipykernel)",
   "language": "python",
   "name": "python3"
  },
  "language_info": {
   "codemirror_mode": {
    "name": "ipython",
    "version": 3
   },
   "file_extension": ".py",
   "mimetype": "text/x-python",
   "name": "python",
   "nbconvert_exporter": "python",
   "pygments_lexer": "ipython3",
   "version": "3.9.10"
  }
 },
 "nbformat": 4,
 "nbformat_minor": 5
}
