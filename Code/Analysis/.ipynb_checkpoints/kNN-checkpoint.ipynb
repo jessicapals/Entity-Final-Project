{
 "cells": [
  {
   "cell_type": "code",
   "execution_count": 27,
   "id": "a0ac63d7-e265-48a1-860d-51dbfdcc8596",
   "metadata": {},
   "outputs": [],
   "source": [
    "import pandas as pd\n",
    "import numpy as np\n",
    "import matplotlib.pyplot as plt\n",
    "import seaborn as sns\n",
    "%matplotlib inline\n",
    "from sklearn.preprocessing import StandardScaler\n",
    "from sklearn.model_selection import train_test_split\n",
    "from sklearn.neighbors import KNeighborsClassifier\n",
    "from sklearn.metrics import classification_report, confusion_matrix"
   ]
  },
  {
   "cell_type": "code",
   "execution_count": 28,
   "id": "f9e85ef4-05e9-4e15-97b1-ca744eca3985",
   "metadata": {},
   "outputs": [],
   "source": [
    "spine = pd.read_csv('spine.csv')"
   ]
  },
  {
   "cell_type": "markdown",
   "id": "2e3cf0f6-33d6-4059-904e-e2e545f04c56",
   "metadata": {},
   "source": [
    "## Scaling Your Data"
   ]
  },
  {
   "cell_type": "code",
   "execution_count": 29,
   "id": "e1d765a7-03df-4d8e-bba2-2092915ddfd4",
   "metadata": {},
   "outputs": [],
   "source": [
    "scaler = StandardScaler()\n",
    "scaler.fit(spine.drop('pain', axis=1))\n",
    "scaledVariables = scaler.transform(spine.drop('pain',axis=1))\n",
    "spineScaled = pd.DataFrame(scaledVariables, columns=spine.columns[:-1])"
   ]
  },
  {
   "cell_type": "code",
   "execution_count": 5,
   "id": "2d0bccd8-caff-438a-bf8c-32728c123a90",
   "metadata": {},
   "outputs": [
    {
     "data": {
      "text/html": [
       "<div>\n",
       "<style scoped>\n",
       "    .dataframe tbody tr th:only-of-type {\n",
       "        vertical-align: middle;\n",
       "    }\n",
       "\n",
       "    .dataframe tbody tr th {\n",
       "        vertical-align: top;\n",
       "    }\n",
       "\n",
       "    .dataframe thead th {\n",
       "        text-align: right;\n",
       "    }\n",
       "</style>\n",
       "<table border=\"1\" class=\"dataframe\">\n",
       "  <thead>\n",
       "    <tr style=\"text-align: right;\">\n",
       "      <th></th>\n",
       "      <th>pelvic_incidence</th>\n",
       "      <th>pelvic_tilt</th>\n",
       "      <th>lumbar_lordosis_angle</th>\n",
       "      <th>sacral_slope</th>\n",
       "      <th>pelvic_radius</th>\n",
       "      <th>degree_spondylolisthesis</th>\n",
       "      <th>pelvic_slope</th>\n",
       "      <th>direct_tilt</th>\n",
       "      <th>thoracic_slope</th>\n",
       "      <th>cervical_tilt</th>\n",
       "      <th>sacrum_angle</th>\n",
       "      <th>scoliosis_slope</th>\n",
       "    </tr>\n",
       "  </thead>\n",
       "  <tbody>\n",
       "    <tr>\n",
       "      <th>0</th>\n",
       "      <td>0.147086</td>\n",
       "      <td>0.501369</td>\n",
       "      <td>-0.665177</td>\n",
       "      <td>-0.184950</td>\n",
       "      <td>-1.447647</td>\n",
       "      <td>-0.708059</td>\n",
       "      <td>0.951630</td>\n",
       "      <td>-1.015066</td>\n",
       "      <td>0.434293</td>\n",
       "      <td>1.167129</td>\n",
       "      <td>-1.196587</td>\n",
       "      <td>1.712368</td>\n",
       "    </tr>\n",
       "    <tr>\n",
       "      <th>1</th>\n",
       "      <td>-1.245864</td>\n",
       "      <td>-0.748769</td>\n",
       "      <td>-1.453001</td>\n",
       "      <td>-1.041521</td>\n",
       "      <td>-0.264385</td>\n",
       "      <td>-0.579556</td>\n",
       "      <td>-0.202553</td>\n",
       "      <td>-0.977816</td>\n",
       "      <td>1.316291</td>\n",
       "      <td>1.679551</td>\n",
       "      <td>-0.940325</td>\n",
       "      <td>-0.913941</td>\n",
       "    </tr>\n",
       "    <tr>\n",
       "      <th>2</th>\n",
       "      <td>0.484370</td>\n",
       "      <td>0.467932</td>\n",
       "      <td>-0.099262</td>\n",
       "      <td>0.273083</td>\n",
       "      <td>-0.897686</td>\n",
       "      <td>-0.795421</td>\n",
       "      <td>0.006694</td>\n",
       "      <td>0.639127</td>\n",
       "      <td>1.302680</td>\n",
       "      <td>1.635969</td>\n",
       "      <td>-1.227178</td>\n",
       "      <td>-0.615686</td>\n",
       "    </tr>\n",
       "    <tr>\n",
       "      <th>3</th>\n",
       "      <td>0.511390</td>\n",
       "      <td>0.711562</td>\n",
       "      <td>-0.411339</td>\n",
       "      <td>0.126128</td>\n",
       "      <td>-1.207303</td>\n",
       "      <td>-0.402288</td>\n",
       "      <td>-0.363213</td>\n",
       "      <td>0.259554</td>\n",
       "      <td>-0.105211</td>\n",
       "      <td>-0.176157</td>\n",
       "      <td>-1.345020</td>\n",
       "      <td>-0.652989</td>\n",
       "    </tr>\n",
       "    <tr>\n",
       "      <th>4</th>\n",
       "      <td>-0.626648</td>\n",
       "      <td>-0.789693</td>\n",
       "      <td>-1.274745</td>\n",
       "      <td>-0.215876</td>\n",
       "      <td>-0.733455</td>\n",
       "      <td>-0.490106</td>\n",
       "      <td>0.246670</td>\n",
       "      <td>1.643094</td>\n",
       "      <td>0.851472</td>\n",
       "      <td>-1.059666</td>\n",
       "      <td>-0.190502</td>\n",
       "      <td>-0.069858</td>\n",
       "    </tr>\n",
       "  </tbody>\n",
       "</table>\n",
       "</div>"
      ],
      "text/plain": [
       "   pelvic_incidence  pelvic_tilt  lumbar_lordosis_angle  sacral_slope  \\\n",
       "0          0.147086     0.501369              -0.665177     -0.184950   \n",
       "1         -1.245864    -0.748769              -1.453001     -1.041521   \n",
       "2          0.484370     0.467932              -0.099262      0.273083   \n",
       "3          0.511390     0.711562              -0.411339      0.126128   \n",
       "4         -0.626648    -0.789693              -1.274745     -0.215876   \n",
       "\n",
       "   pelvic_radius  degree_spondylolisthesis  pelvic_slope  direct_tilt  \\\n",
       "0      -1.447647                 -0.708059      0.951630    -1.015066   \n",
       "1      -0.264385                 -0.579556     -0.202553    -0.977816   \n",
       "2      -0.897686                 -0.795421      0.006694     0.639127   \n",
       "3      -1.207303                 -0.402288     -0.363213     0.259554   \n",
       "4      -0.733455                 -0.490106      0.246670     1.643094   \n",
       "\n",
       "   thoracic_slope  cervical_tilt  sacrum_angle  scoliosis_slope  \n",
       "0        0.434293       1.167129     -1.196587         1.712368  \n",
       "1        1.316291       1.679551     -0.940325        -0.913941  \n",
       "2        1.302680       1.635969     -1.227178        -0.615686  \n",
       "3       -0.105211      -0.176157     -1.345020        -0.652989  \n",
       "4        0.851472      -1.059666     -0.190502        -0.069858  "
      ]
     },
     "execution_count": 5,
     "metadata": {},
     "output_type": "execute_result"
    }
   ],
   "source": [
    "spineScaled.head()"
   ]
  },
  {
   "cell_type": "markdown",
   "id": "58afac13-84d2-4c1c-b373-8e83d767ee9c",
   "metadata": {},
   "source": [
    "## Subsetting Your Data"
   ]
  },
  {
   "cell_type": "code",
   "execution_count": 30,
   "id": "e4e803c8-aa0e-4ff5-bf80-1fbb27fd00f9",
   "metadata": {},
   "outputs": [],
   "source": [
    "x = spineScaled\n",
    "y = spine['pain']"
   ]
  },
  {
   "cell_type": "markdown",
   "id": "30e1269e-edcd-44e3-8483-1d31bcee48c1",
   "metadata": {},
   "source": [
    "## Train, Test, Split"
   ]
  },
  {
   "cell_type": "code",
   "execution_count": 31,
   "id": "a72d135d-42d7-4e29-9762-c7b7776e2815",
   "metadata": {},
   "outputs": [],
   "source": [
    "x_train, x_test, y_train, y_test = train_test_split(x,y,test_size=0.3, random_state=101)"
   ]
  },
  {
   "cell_type": "markdown",
   "id": "e557e717-9c49-4637-b89d-ab94404fc6a5",
   "metadata": {},
   "source": [
    "## KNN Analysis"
   ]
  },
  {
   "cell_type": "code",
   "execution_count": 32,
   "id": "8a2287e2-6a72-40f6-81f3-ab0638d48575",
   "metadata": {},
   "outputs": [],
   "source": [
    "knn = KNeighborsClassifier(n_neighbors=1)\n",
    "knn.fit(x_train, y_train)\n",
    "pred = knn.predict(x_test)"
   ]
  },
  {
   "cell_type": "code",
   "execution_count": 33,
   "id": "42151205-7466-43d9-b7c3-adea303e07b1",
   "metadata": {},
   "outputs": [
    {
     "data": {
      "text/plain": [
       "array([1, 1, 0, 0, 0, 0, 0, 0, 1, 0, 0, 0, 0, 1, 1, 0, 0, 1, 1, 0, 1, 0,\n",
       "       1, 0, 0, 1, 0, 0, 0, 1, 0, 0, 0, 0, 1, 0, 0, 0, 0, 0, 1, 1, 0, 1,\n",
       "       1, 1, 0, 0, 1, 0, 0, 1, 0, 0, 1, 0, 0, 0, 0, 0, 0, 0, 0, 1, 0, 0,\n",
       "       0, 0, 0, 1, 0, 1, 0, 0, 0, 1, 1, 0, 0, 1, 1, 0, 0, 1, 1, 0, 1, 0,\n",
       "       0, 1, 0, 1, 0])"
      ]
     },
     "execution_count": 33,
     "metadata": {},
     "output_type": "execute_result"
    }
   ],
   "source": [
    "pred"
   ]
  },
  {
   "cell_type": "markdown",
   "id": "84dde294-8fd2-4251-9d62-481d42bfe3ae",
   "metadata": {},
   "source": [
    "## Confusion Matrix"
   ]
  },
  {
   "cell_type": "code",
   "execution_count": 34,
   "id": "79b5bd3a-52e1-4ca5-8cfe-5582270fda5e",
   "metadata": {},
   "outputs": [
    {
     "name": "stdout",
     "output_type": "stream",
     "text": [
      "[[51 11]\n",
      " [10 21]]\n"
     ]
    }
   ],
   "source": [
    "print(confusion_matrix(y_test, pred))"
   ]
  },
  {
   "cell_type": "markdown",
   "id": "a53889da-1781-435b-be26-f088ebc4ef13",
   "metadata": {
    "tags": []
   },
   "source": [
    "#### 51 correct Abnormal predictions, 10 incorrect\n",
    "#### 21 correct Normal predictions, 11 incorrect"
   ]
  },
  {
   "cell_type": "markdown",
   "id": "2ca63f62-8c21-4e6c-b343-7b967cfb4083",
   "metadata": {},
   "source": [
    "## Classification Report"
   ]
  },
  {
   "cell_type": "code",
   "execution_count": 35,
   "id": "632324c8-d0fb-43be-95c7-63d115a7ccb1",
   "metadata": {},
   "outputs": [
    {
     "name": "stdout",
     "output_type": "stream",
     "text": [
      "              precision    recall  f1-score   support\n",
      "\n",
      "           0       0.84      0.82      0.83        62\n",
      "           1       0.66      0.68      0.67        31\n",
      "\n",
      "    accuracy                           0.77        93\n",
      "   macro avg       0.75      0.75      0.75        93\n",
      "weighted avg       0.78      0.77      0.78        93\n",
      "\n"
     ]
    }
   ],
   "source": [
    "print(classification_report(y_test,pred))"
   ]
  },
  {
   "cell_type": "markdown",
   "id": "0d319e9c-0830-418f-8a5f-33196ade9b29",
   "metadata": {},
   "source": [
    "#### 84% Accuracy in Predicting Abnormal (Pain)\n",
    "#### 66% Accuracy in Predicting Normal (No Pain)"
   ]
  },
  {
   "cell_type": "markdown",
   "id": "afe7fd46-a7e5-458e-9d57-4822efda254d",
   "metadata": {},
   "source": [
    "## Can We Get the Accuracy Level Higher?"
   ]
  },
  {
   "cell_type": "code",
   "execution_count": 36,
   "id": "93c21975-0908-42e1-927c-1286f4866c25",
   "metadata": {},
   "outputs": [],
   "source": [
    "errorRate = []\n",
    "for i in range(1,40):\n",
    "    knn = KNeighborsClassifier(n_neighbors=i)\n",
    "    knn.fit(x_train, y_train)\n",
    "    predI = knn.predict(x_test)\n",
    "    errorRate.append(np.mean(predI != y_test))"
   ]
  },
  {
   "cell_type": "code",
   "execution_count": 37,
   "id": "b049833b-b4a2-4547-a39d-7ef5769e80b4",
   "metadata": {},
   "outputs": [
    {
     "data": {
      "text/plain": [
       "Text(0, 0.5, 'Error Rate')"
      ]
     },
     "execution_count": 37,
     "metadata": {},
     "output_type": "execute_result"
    },
    {
     "data": {
      "image/png": "[encoded data removed]",
      "text/plain": [
       "<Figure size 720x432 with 1 Axes>"
      ]
     },
     "metadata": {
      "needs_background": "light"
     },
     "output_type": "display_data"
    }
   ],
   "source": [
    "plt.figure(figsize=(10,6))\n",
    "plt.plot(range(1,40), errorRate, color='blue', linestyle='dashed', marker='o', markerfacecolor='darkmagenta', markersize=10)\n",
    "plt.title('Error Rate vs K Value')\n",
    "plt.xlabel('K')\n",
    "plt.ylabel('Error Rate')"
   ]
  },
  {
   "cell_type": "markdown",
   "id": "014a312b-4f81-4533-a611-0f41ce69f011",
   "metadata": {},
   "source": [
    "#### 4, 11, and 24 are the lowest with closest to no error"
   ]
  },
  {
   "cell_type": "markdown",
   "id": "b464fcb8-5362-406a-8d69-21eaa614390b",
   "metadata": {},
   "source": [
    "## Run the Final Model with Different # of Neighbors"
   ]
  },
  {
   "cell_type": "markdown",
   "id": "11d1bc8e-a77a-4d38-9db6-492b24e9da9a",
   "metadata": {},
   "source": [
    "### 11 Neighbors"
   ]
  },
  {
   "cell_type": "code",
   "execution_count": 38,
   "id": "f956c98c-9785-4064-bccf-0870ac3f1df3",
   "metadata": {},
   "outputs": [],
   "source": [
    "knn = KNeighborsClassifier(n_neighbors=11)\n",
    "knn.fit(x_train, y_train)\n",
    "pred = knn.predict(x_test)"
   ]
  },
  {
   "cell_type": "code",
   "execution_count": 39,
   "id": "4b6ccf3e-ac98-4b96-acf7-52ff4a31fac2",
   "metadata": {},
   "outputs": [
    {
     "name": "stdout",
     "output_type": "stream",
     "text": [
      "[[50 12]\n",
      " [ 8 23]]\n"
     ]
    }
   ],
   "source": [
    "print(confusion_matrix(y_test, pred))"
   ]
  },
  {
   "cell_type": "markdown",
   "id": "a2459234-00c3-46ce-bc75-f0ab5f12680d",
   "metadata": {},
   "source": [
    "#### 50 correct Abnormal predictions, 8 incorrect\n",
    "#### 23 correct Normal predictions, 12 incorrect"
   ]
  },
  {
   "cell_type": "code",
   "execution_count": 40,
   "id": "18b39789-7d27-434f-9ed3-fdc967b2d068",
   "metadata": {},
   "outputs": [
    {
     "name": "stdout",
     "output_type": "stream",
     "text": [
      "              precision    recall  f1-score   support\n",
      "\n",
      "           0       0.86      0.81      0.83        62\n",
      "           1       0.66      0.74      0.70        31\n",
      "\n",
      "    accuracy                           0.78        93\n",
      "   macro avg       0.76      0.77      0.77        93\n",
      "weighted avg       0.79      0.78      0.79        93\n",
      "\n"
     ]
    }
   ],
   "source": [
    "print(classification_report(y_test,pred))"
   ]
  },
  {
   "cell_type": "markdown",
   "id": "5258b737-4eac-4411-9b35-41d81e47fa55",
   "metadata": {},
   "source": [
    "#### Abnormal prediction improved by .02 compared to initial\n",
    "#### Normal prediction stayed the same"
   ]
  },
  {
   "cell_type": "markdown",
   "id": "ec23ce98-3987-4ec8-8542-7e5d88dee733",
   "metadata": {},
   "source": [
    "### 4 Neighbors"
   ]
  },
  {
   "cell_type": "code",
   "execution_count": 41,
   "id": "15c84265-1f6a-4198-8707-7b9b89ba46e6",
   "metadata": {},
   "outputs": [],
   "source": [
    "knn = KNeighborsClassifier(n_neighbors=4)\n",
    "knn.fit(x_train, y_train)\n",
    "pred = knn.predict(x_test)"
   ]
  },
  {
   "cell_type": "code",
   "execution_count": 42,
   "id": "384e4ee3-4e37-4ca5-994d-3570b58ee71a",
   "metadata": {},
   "outputs": [
    {
     "name": "stdout",
     "output_type": "stream",
     "text": [
      "[[54  8]\n",
      " [13 18]]\n"
     ]
    }
   ],
   "source": [
    "print(confusion_matrix(y_test, pred))"
   ]
  },
  {
   "cell_type": "markdown",
   "id": "f4653d48-5381-4077-88b9-ab8b58f5f54f",
   "metadata": {},
   "source": [
    "#### 54 correct Abnormal predictions, 13 incorrect\n",
    "#### 18 correct Normal predictions, 8 incorrect"
   ]
  },
  {
   "cell_type": "code",
   "execution_count": 43,
   "id": "dc90ed42-f89a-42f8-ba81-bfdf18637be0",
   "metadata": {},
   "outputs": [
    {
     "name": "stdout",
     "output_type": "stream",
     "text": [
      "              precision    recall  f1-score   support\n",
      "\n",
      "           0       0.81      0.87      0.84        62\n",
      "           1       0.69      0.58      0.63        31\n",
      "\n",
      "    accuracy                           0.77        93\n",
      "   macro avg       0.75      0.73      0.73        93\n",
      "weighted avg       0.77      0.77      0.77        93\n",
      "\n"
     ]
    }
   ],
   "source": [
    "print(classification_report(y_test,pred))"
   ]
  },
  {
   "cell_type": "markdown",
   "id": "ff1c6def-bc14-49fd-8f91-2689e18de9e6",
   "metadata": {},
   "source": [
    "#### Abnormal prediction decreased by .03 compared to initial model\n",
    "#### Normal prediction improved by .03 compared to initial model"
   ]
  },
  {
   "cell_type": "markdown",
   "id": "c2a0a901-e3e8-4f6e-b784-d4adceed4c81",
   "metadata": {},
   "source": [
    "### 24 Neighbors"
   ]
  },
  {
   "cell_type": "code",
   "execution_count": 47,
   "id": "f4e5224f-0e65-4aff-861d-93fb931499d3",
   "metadata": {},
   "outputs": [],
   "source": [
    "knn = KNeighborsClassifier(n_neighbors=24)\n",
    "knn.fit(x_train, y_train)\n",
    "pred = knn.predict(x_test)"
   ]
  },
  {
   "cell_type": "code",
   "execution_count": 48,
   "id": "1d57d512-f66a-45be-b1a5-040181150616",
   "metadata": {},
   "outputs": [
    {
     "name": "stdout",
     "output_type": "stream",
     "text": [
      "[[53  9]\n",
      " [12 19]]\n"
     ]
    }
   ],
   "source": [
    "print(confusion_matrix(y_test, pred))"
   ]
  },
  {
   "cell_type": "markdown",
   "id": "9eec99bd-b14d-42c9-98ad-05a2c14f52c3",
   "metadata": {},
   "source": [
    "#### 53 correct Abnormal predictions, 12 incorrect\n",
    "#### 19 correct Normal predictions, 9 incorrect"
   ]
  },
  {
   "cell_type": "code",
   "execution_count": 49,
   "id": "16e8b1fc-d2e8-4c2a-97ab-76ff780756f3",
   "metadata": {},
   "outputs": [
    {
     "name": "stdout",
     "output_type": "stream",
     "text": [
      "              precision    recall  f1-score   support\n",
      "\n",
      "           0       0.82      0.85      0.83        62\n",
      "           1       0.68      0.61      0.64        31\n",
      "\n",
      "    accuracy                           0.77        93\n",
      "   macro avg       0.75      0.73      0.74        93\n",
      "weighted avg       0.77      0.77      0.77        93\n",
      "\n"
     ]
    }
   ],
   "source": [
    "print(classification_report(y_test,pred))"
   ]
  },
  {
   "cell_type": "markdown",
   "id": "a3d0c2fb-a790-456b-9cb7-6e79c85a4d1d",
   "metadata": {},
   "source": [
    "#### Abnormal prediction decreased by .02 compared to initial model\n",
    "#### Normal prediction improved by .02 compared to initial model"
   ]
  },
  {
   "cell_type": "markdown",
   "id": "a39307d2-07fa-4369-be4a-eeb4ad21c3ba",
   "metadata": {},
   "source": [
    "# Conclusion"
   ]
  },
  {
   "cell_type": "markdown",
   "id": "484d452b-0369-4697-a3c1-ca64fb9c445d",
   "metadata": {},
   "source": [
    "## 11 Neighbors makes for the best model:\n",
    "### 86% Accurate for Abnormal Prediction\n",
    "### 66% Accurate for Normal Prediction"
   ]
  }
 ],
 "metadata": {
  "kernelspec": {
   "display_name": "Python 3 (ipykernel)",
   "language": "python",
   "name": "python3"
  },
  "language_info": {
   "codemirror_mode": {
    "name": "ipython",
    "version": 3
   },
   "file_extension": ".py",
   "mimetype": "text/x-python",
   "name": "python",
   "nbconvert_exporter": "python",
   "pygments_lexer": "ipython3",
   "version": "3.9.10"
  }
 },
 "nbformat": 4,
 "nbformat_minor": 5
}
