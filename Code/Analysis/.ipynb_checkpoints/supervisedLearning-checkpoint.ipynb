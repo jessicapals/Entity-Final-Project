{
 "cells": [
  {
   "cell_type": "code",
   "execution_count": 1,
   "id": "28099af2-c3e9-48d1-8937-c9a89de96294",
   "metadata": {},
   "outputs": [],
   "source": [
    "import pandas as pd\n",
    "from sklearn.linear_model import LinearRegression\n",
    "from sklearn.model_selection import train_test_split\n",
    "import matplotlib.pyplot as plt\n",
    "%matplotlib inline\n",
    "from sklearn import metrics\n",
    "import numpy as np"
   ]
  },
  {
   "cell_type": "code",
   "execution_count": 2,
   "id": "0e49ac94-b753-40a8-a646-e9022da41eb9",
   "metadata": {},
   "outputs": [],
   "source": [
    "spine = pd.read_csv(\"spine.csv\")"
   ]
  },
  {
   "cell_type": "code",
   "execution_count": 3,
   "id": "f5fd8d2b-3f4c-45c3-b9a3-29553f8f3a2b",
   "metadata": {},
   "outputs": [
    {
     "data": {
      "text/html": [
       "<div>\n",
       "<style scoped>\n",
       "    .dataframe tbody tr th:only-of-type {\n",
       "        vertical-align: middle;\n",
       "    }\n",
       "\n",
       "    .dataframe tbody tr th {\n",
       "        vertical-align: top;\n",
       "    }\n",
       "\n",
       "    .dataframe thead th {\n",
       "        text-align: right;\n",
       "    }\n",
       "</style>\n",
       "<table border=\"1\" class=\"dataframe\">\n",
       "  <thead>\n",
       "    <tr style=\"text-align: right;\">\n",
       "      <th></th>\n",
       "      <th>pelvic_incidence</th>\n",
       "      <th>pelvic_tilt</th>\n",
       "      <th>lumbar_lordosis_angle</th>\n",
       "      <th>sacral_slope</th>\n",
       "      <th>pelvic_radius</th>\n",
       "      <th>degree_spondylolisthesis</th>\n",
       "      <th>pelvic_slope</th>\n",
       "      <th>direct_tilt</th>\n",
       "      <th>thoracic_slope</th>\n",
       "      <th>cervical_tilt</th>\n",
       "      <th>sacrum_angle</th>\n",
       "      <th>scoliosis_slope</th>\n",
       "      <th>pain</th>\n",
       "    </tr>\n",
       "  </thead>\n",
       "  <tbody>\n",
       "    <tr>\n",
       "      <th>0</th>\n",
       "      <td>63.027817</td>\n",
       "      <td>22.552586</td>\n",
       "      <td>39.609117</td>\n",
       "      <td>40.475232</td>\n",
       "      <td>98.672917</td>\n",
       "      <td>-0.254400</td>\n",
       "      <td>0.744503</td>\n",
       "      <td>12.5661</td>\n",
       "      <td>14.5386</td>\n",
       "      <td>15.30468</td>\n",
       "      <td>-28.658501</td>\n",
       "      <td>43.5123</td>\n",
       "      <td>0</td>\n",
       "    </tr>\n",
       "    <tr>\n",
       "      <th>1</th>\n",
       "      <td>39.056951</td>\n",
       "      <td>10.060991</td>\n",
       "      <td>25.015378</td>\n",
       "      <td>28.995960</td>\n",
       "      <td>114.405425</td>\n",
       "      <td>4.564259</td>\n",
       "      <td>0.415186</td>\n",
       "      <td>12.8874</td>\n",
       "      <td>17.5323</td>\n",
       "      <td>16.78486</td>\n",
       "      <td>-25.530607</td>\n",
       "      <td>16.1102</td>\n",
       "      <td>0</td>\n",
       "    </tr>\n",
       "    <tr>\n",
       "      <th>2</th>\n",
       "      <td>68.832021</td>\n",
       "      <td>22.218482</td>\n",
       "      <td>50.092194</td>\n",
       "      <td>46.613539</td>\n",
       "      <td>105.985135</td>\n",
       "      <td>-3.530317</td>\n",
       "      <td>0.474889</td>\n",
       "      <td>26.8343</td>\n",
       "      <td>17.4861</td>\n",
       "      <td>16.65897</td>\n",
       "      <td>-29.031888</td>\n",
       "      <td>19.2221</td>\n",
       "      <td>0</td>\n",
       "    </tr>\n",
       "    <tr>\n",
       "      <th>3</th>\n",
       "      <td>69.297008</td>\n",
       "      <td>24.652878</td>\n",
       "      <td>44.311238</td>\n",
       "      <td>44.644130</td>\n",
       "      <td>101.868495</td>\n",
       "      <td>11.211523</td>\n",
       "      <td>0.369345</td>\n",
       "      <td>23.5603</td>\n",
       "      <td>12.7074</td>\n",
       "      <td>11.42447</td>\n",
       "      <td>-30.470246</td>\n",
       "      <td>18.8329</td>\n",
       "      <td>0</td>\n",
       "    </tr>\n",
       "    <tr>\n",
       "      <th>4</th>\n",
       "      <td>49.712859</td>\n",
       "      <td>9.652075</td>\n",
       "      <td>28.317406</td>\n",
       "      <td>40.060784</td>\n",
       "      <td>108.168725</td>\n",
       "      <td>7.918501</td>\n",
       "      <td>0.543360</td>\n",
       "      <td>35.4940</td>\n",
       "      <td>15.9546</td>\n",
       "      <td>8.87237</td>\n",
       "      <td>-16.378376</td>\n",
       "      <td>24.9171</td>\n",
       "      <td>0</td>\n",
       "    </tr>\n",
       "  </tbody>\n",
       "</table>\n",
       "</div>"
      ],
      "text/plain": [
       "   pelvic_incidence  pelvic_tilt  lumbar_lordosis_angle  sacral_slope  \\\n",
       "0         63.027817    22.552586              39.609117     40.475232   \n",
       "1         39.056951    10.060991              25.015378     28.995960   \n",
       "2         68.832021    22.218482              50.092194     46.613539   \n",
       "3         69.297008    24.652878              44.311238     44.644130   \n",
       "4         49.712859     9.652075              28.317406     40.060784   \n",
       "\n",
       "   pelvic_radius  degree_spondylolisthesis  pelvic_slope  direct_tilt  \\\n",
       "0      98.672917                 -0.254400      0.744503      12.5661   \n",
       "1     114.405425                  4.564259      0.415186      12.8874   \n",
       "2     105.985135                 -3.530317      0.474889      26.8343   \n",
       "3     101.868495                 11.211523      0.369345      23.5603   \n",
       "4     108.168725                  7.918501      0.543360      35.4940   \n",
       "\n",
       "   thoracic_slope  cervical_tilt  sacrum_angle  scoliosis_slope  pain  \n",
       "0         14.5386       15.30468    -28.658501          43.5123     0  \n",
       "1         17.5323       16.78486    -25.530607          16.1102     0  \n",
       "2         17.4861       16.65897    -29.031888          19.2221     0  \n",
       "3         12.7074       11.42447    -30.470246          18.8329     0  \n",
       "4         15.9546        8.87237    -16.378376          24.9171     0  "
      ]
     },
     "execution_count": 3,
     "metadata": {},
     "output_type": "execute_result"
    }
   ],
   "source": [
    "spine.head()"
   ]
  },
  {
   "cell_type": "markdown",
   "id": "1737254b-ba8b-48b9-89af-374e023a1573",
   "metadata": {},
   "source": [
    "## Subset Data"
   ]
  },
  {
   "cell_type": "code",
   "execution_count": 4,
   "id": "a0b055c3-316a-4e50-9fd0-a46ba2cce7ec",
   "metadata": {},
   "outputs": [],
   "source": [
    "x = spine[['pelvic_incidence', 'pelvic_tilt', 'lumbar_lordosis_angle', 'sacral_slope', 'pelvic_radius',\n",
    "           'degree_spondylolisthesis', 'pelvic_slope', 'direct_tilt', 'thoracic_slope', \n",
    "           'cervical_tilt', 'sacrum_angle', 'scoliosis_slope']]"
   ]
  },
  {
   "cell_type": "code",
   "execution_count": 8,
   "id": "ea771848-7af6-48d3-ab68-03b4fb9ad742",
   "metadata": {},
   "outputs": [],
   "source": [
    "y = spine['pain']"
   ]
  },
  {
   "cell_type": "markdown",
   "id": "5267a28e-3ba4-4b65-9f36-e5f5686d46f8",
   "metadata": {},
   "source": [
    "## Train, Test, Split & Shape Check"
   ]
  },
  {
   "cell_type": "code",
   "execution_count": 9,
   "id": "642002d8-7c31-4761-bbae-7a9125072b16",
   "metadata": {},
   "outputs": [],
   "source": [
    "x_train, x_test, y_train, y_test = train_test_split(x,y, test_size = .4, random_state=101)"
   ]
  },
  {
   "cell_type": "code",
   "execution_count": 10,
   "id": "f63495bb-4a4c-4610-8c20-45d79a26cdfc",
   "metadata": {},
   "outputs": [
    {
     "name": "stdout",
     "output_type": "stream",
     "text": [
      "(186, 12) (186,)\n",
      "(124, 12) (124,)\n"
     ]
    }
   ],
   "source": [
    "print(x_train.shape, y_train.shape)\n",
    "print(x_test.shape, y_test.shape)"
   ]
  },
  {
   "cell_type": "markdown",
   "id": "c874c838-5754-4b3e-a0a8-5f265477db5c",
   "metadata": {},
   "source": [
    "## Create Linear Regression Model"
   ]
  },
  {
   "cell_type": "code",
   "execution_count": 11,
   "id": "6642eb00-1659-4a8e-8ddb-77b7caabb7c2",
   "metadata": {},
   "outputs": [
    {
     "data": {
      "text/plain": [
       "LinearRegression()"
      ]
     },
     "execution_count": 11,
     "metadata": {},
     "output_type": "execute_result"
    }
   ],
   "source": [
    "lm = LinearRegression()\n",
    "lm.fit(x_train, y_train)"
   ]
  },
  {
   "cell_type": "markdown",
   "id": "5fcbd779-e356-4e4c-a9dc-824e5d661ba9",
   "metadata": {},
   "source": [
    "## Examine Predictions"
   ]
  },
  {
   "cell_type": "code",
   "execution_count": 12,
   "id": "49b457e9-4f44-4f85-8053-a3dc979eec72",
   "metadata": {},
   "outputs": [
    {
     "data": {
      "text/plain": [
       "array([ 5.09501238e-01,  4.73476950e-01,  5.77198758e-01,  4.96953342e-02,\n",
       "        1.10024458e-01,  5.04502077e-01, -2.65392287e-02,  1.52501588e-01,\n",
       "        4.48159509e-01, -1.02698047e-01, -1.47192374e-01,  2.30881149e-01,\n",
       "        6.33286884e-01,  4.18454244e-01,  4.26803965e-01,  4.04540526e-01,\n",
       "        5.27878528e-01,  3.43839846e-01,  8.77169342e-01, -4.40841304e-03,\n",
       "        3.14637412e-01,  3.07042048e-01,  5.61248969e-01,  5.64646377e-01,\n",
       "        4.02651362e-01,  4.62314216e-01,  5.71291560e-01,  2.04941920e-01,\n",
       "        2.81151532e-01,  8.41861303e-01,  4.05724275e-01,  3.38180948e-01,\n",
       "        6.31706212e-01,  2.72511452e-01,  6.12759188e-01,  2.29014043e-01,\n",
       "        6.71321325e-01, -1.56998893e-01, -3.39553078e-02,  1.36071845e-01,\n",
       "        6.65052244e-01,  3.67983009e-01,  4.56497215e-01, -1.32373324e-01,\n",
       "        4.38806624e-01,  6.62879392e-01,  1.14700590e-01,  4.32181229e-01,\n",
       "        5.71242494e-01,  4.36178608e-01,  4.67221752e-01,  6.34396075e-01,\n",
       "        1.31371712e-01,  3.88859730e-01,  3.97344017e-01,  3.56374743e-01,\n",
       "        3.26542033e-01,  8.73649838e-02, -4.43049198e-01,  5.45565776e-01,\n",
       "       -4.80071774e-02, -4.63662132e-03, -1.23324314e-02,  3.46505394e-01,\n",
       "        5.73067651e-01, -1.00770129e-02,  4.15213772e-03,  8.27721941e-02,\n",
       "        5.72965939e-01,  9.07785545e-01,  3.68418382e-01,  4.91056641e-01,\n",
       "        1.56157049e-01,  5.68339669e-02,  2.10176837e-01,  5.37224922e-01,\n",
       "        6.08682289e-01,  4.68492476e-01, -2.89263476e-02,  7.43755448e-01,\n",
       "        3.83450108e-01,  4.82563089e-01,  3.16250287e-01,  3.05905136e-01,\n",
       "        6.41443267e-01,  1.04977958e-03,  4.49299930e-01,  1.37417984e-01,\n",
       "        8.05638357e-02,  4.30178592e-01,  9.09406012e-01,  5.87950335e-01,\n",
       "        1.95866672e-01,  5.17841756e-01,  6.41119247e-01, -2.13077432e-01,\n",
       "        5.72406080e-01,  5.46705015e-01,  5.59713500e-01,  4.95818758e-01,\n",
       "        2.45586878e-01, -3.00358958e-01,  7.38891947e-01,  5.17151172e-01,\n",
       "        3.66272296e-01,  8.51360543e-01,  1.42013384e-01,  3.06487323e-01,\n",
       "        5.63184921e-01,  6.40118343e-01,  5.77217471e-01, -7.51008818e-01,\n",
       "        3.61594791e-01,  1.90134630e-01, -3.39705475e+00,  1.56665533e-01,\n",
       "        1.33832680e-01,  4.97795679e-01,  3.26987886e-01,  6.40890367e-01,\n",
       "       -2.64048928e-01,  5.93167167e-01,  2.13258369e-01,  7.02335895e-01])"
      ]
     },
     "execution_count": 12,
     "metadata": {},
     "output_type": "execute_result"
    }
   ],
   "source": [
    "predictions = lm.predict(x_test)\n",
    "predictions"
   ]
  },
  {
   "cell_type": "code",
   "execution_count": 13,
   "id": "64b791f5-0d0b-41d8-82fb-ae4223af9ea4",
   "metadata": {},
   "outputs": [
    {
     "data": {
      "text/plain": [
       "<matplotlib.collections.PathCollection at 0x128d203d0>"
      ]
     },
     "execution_count": 13,
     "metadata": {},
     "output_type": "execute_result"
    },
    {
     "data": {
      "image/png": "[encoded data removed]",
      "text/plain": [
       "<Figure size 432x288 with 1 Axes>"
      ]
     },
     "metadata": {
      "needs_background": "light"
     },
     "output_type": "display_data"
    }
   ],
   "source": [
    "plt.scatter(y_test, predictions)"
   ]
  },
  {
   "cell_type": "code",
   "execution_count": 14,
   "id": "a39072c0-2c9d-4564-9625-5d976d6718de",
   "metadata": {},
   "outputs": [
    {
     "name": "stdout",
     "output_type": "stream",
     "text": [
      "Score: -0.077012973672961\n"
     ]
    }
   ],
   "source": [
    "print(\"Score:\", lm.score(x_test, y_test))"
   ]
  },
  {
   "cell_type": "markdown",
   "id": "70fe3ba3-ffc7-4998-b5fa-965f48e0df17",
   "metadata": {},
   "source": [
    "## It doesn't seem like supervised learning is a good model for this data"
   ]
  },
  {
   "cell_type": "code",
   "execution_count": null,
   "id": "96d25660-948c-46f9-98d2-4d70a1e06e06",
   "metadata": {},
   "outputs": [],
   "source": []
  }
 ],
 "metadata": {
  "kernelspec": {
   "display_name": "Python 3 (ipykernel)",
   "language": "python",
   "name": "python3"
  },
  "language_info": {
   "codemirror_mode": {
    "name": "ipython",
    "version": 3
   },
   "file_extension": ".py",
   "mimetype": "text/x-python",
   "name": "python",
   "nbconvert_exporter": "python",
   "pygments_lexer": "ipython3",
   "version": "3.9.10"
  }
 },
 "nbformat": 4,
 "nbformat_minor": 5
}
