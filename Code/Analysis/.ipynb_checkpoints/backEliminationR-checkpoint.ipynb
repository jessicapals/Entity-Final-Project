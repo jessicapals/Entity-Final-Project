{
 "cells": [
  {
   "cell_type": "code",
   "execution_count": 7,
   "id": "a5d4c931-5103-4186-8c68-489a3f2f8d68",
   "metadata": {},
   "outputs": [],
   "source": [
    "spine = read.csv(\"spine.csv\")"
   ]
  },
  {
   "cell_type": "code",
   "execution_count": 8,
   "id": "1e50d739-72be-4283-9925-6e217013e669",
   "metadata": {},
   "outputs": [
    {
     "data": {
      "text/html": [
       "<table class=\"dataframe\">\n",
       "<caption>A data.frame: 6 × 13</caption>\n",
       "<thead>\n",
       "\t<tr><th></th><th scope=col>pelvic_incidence</th><th scope=col>pelvic_tilt</th><th scope=col>lumbar_lordosis_angle</th><th scope=col>sacral_slope</th><th scope=col>pelvic_radius</th><th scope=col>degree_spondylolisthesis</th><th scope=col>pelvic_slope</th><th scope=col>direct_tilt</th><th scope=col>thoracic_slope</th><th scope=col>cervical_tilt</th><th scope=col>sacrum_angle</th><th scope=col>scoliosis_slope</th><th scope=col>pain</th></tr>\n",
       "\t<tr><th></th><th scope=col>&lt;dbl&gt;</th><th scope=col>&lt;dbl&gt;</th><th scope=col>&lt;dbl&gt;</th><th scope=col>&lt;dbl&gt;</th><th scope=col>&lt;dbl&gt;</th><th scope=col>&lt;dbl&gt;</th><th scope=col>&lt;dbl&gt;</th><th scope=col>&lt;dbl&gt;</th><th scope=col>&lt;dbl&gt;</th><th scope=col>&lt;dbl&gt;</th><th scope=col>&lt;dbl&gt;</th><th scope=col>&lt;dbl&gt;</th><th scope=col>&lt;int&gt;</th></tr>\n",
       "</thead>\n",
       "<tbody>\n",
       "\t<tr><th scope=row>1</th><td>63.02782</td><td>22.552586</td><td>39.60912</td><td>40.47523</td><td> 98.67292</td><td>-0.254400</td><td>0.7445035</td><td>12.5661</td><td>14.5386</td><td>15.30468</td><td>-28.658501</td><td>43.5123</td><td>0</td></tr>\n",
       "\t<tr><th scope=row>2</th><td>39.05695</td><td>10.060991</td><td>25.01538</td><td>28.99596</td><td>114.40543</td><td> 4.564259</td><td>0.4151857</td><td>12.8874</td><td>17.5323</td><td>16.78486</td><td>-25.530607</td><td>16.1102</td><td>0</td></tr>\n",
       "\t<tr><th scope=row>3</th><td>68.83202</td><td>22.218482</td><td>50.09219</td><td>46.61354</td><td>105.98514</td><td>-3.530317</td><td>0.4748892</td><td>26.8343</td><td>17.4861</td><td>16.65897</td><td>-29.031888</td><td>19.2221</td><td>0</td></tr>\n",
       "\t<tr><th scope=row>4</th><td>69.29701</td><td>24.652878</td><td>44.31124</td><td>44.64413</td><td>101.86850</td><td>11.211523</td><td>0.3693453</td><td>23.5603</td><td>12.7074</td><td>11.42447</td><td>-30.470246</td><td>18.8329</td><td>0</td></tr>\n",
       "\t<tr><th scope=row>5</th><td>49.71286</td><td> 9.652075</td><td>28.31741</td><td>40.06078</td><td>108.16872</td><td> 7.918501</td><td>0.5433605</td><td>35.4940</td><td>15.9546</td><td> 8.87237</td><td>-16.378376</td><td>24.9171</td><td>0</td></tr>\n",
       "\t<tr><th scope=row>6</th><td>40.25020</td><td>13.921907</td><td>25.12495</td><td>26.32829</td><td>130.32787</td><td> 2.230652</td><td>0.7899929</td><td>29.3230</td><td>12.0036</td><td>10.40462</td><td> -1.512209</td><td> 9.6548</td><td>0</td></tr>\n",
       "</tbody>\n",
       "</table>\n"
      ],
      "text/latex": [
       "A data.frame: 6 × 13\n",
       "\\begin{tabular}{r|lllllllllllll}\n",
       "  & pelvic\\_incidence & pelvic\\_tilt & lumbar\\_lordosis\\_angle & sacral\\_slope & pelvic\\_radius & degree\\_spondylolisthesis & pelvic\\_slope & direct\\_tilt & thoracic\\_slope & cervical\\_tilt & sacrum\\_angle & scoliosis\\_slope & pain\\\\\n",
       "  & <dbl> & <dbl> & <dbl> & <dbl> & <dbl> & <dbl> & <dbl> & <dbl> & <dbl> & <dbl> & <dbl> & <dbl> & <int>\\\\\n",
       "\\hline\n",
       "\t1 & 63.02782 & 22.552586 & 39.60912 & 40.47523 &  98.67292 & -0.254400 & 0.7445035 & 12.5661 & 14.5386 & 15.30468 & -28.658501 & 43.5123 & 0\\\\\n",
       "\t2 & 39.05695 & 10.060991 & 25.01538 & 28.99596 & 114.40543 &  4.564259 & 0.4151857 & 12.8874 & 17.5323 & 16.78486 & -25.530607 & 16.1102 & 0\\\\\n",
       "\t3 & 68.83202 & 22.218482 & 50.09219 & 46.61354 & 105.98514 & -3.530317 & 0.4748892 & 26.8343 & 17.4861 & 16.65897 & -29.031888 & 19.2221 & 0\\\\\n",
       "\t4 & 69.29701 & 24.652878 & 44.31124 & 44.64413 & 101.86850 & 11.211523 & 0.3693453 & 23.5603 & 12.7074 & 11.42447 & -30.470246 & 18.8329 & 0\\\\\n",
       "\t5 & 49.71286 &  9.652075 & 28.31741 & 40.06078 & 108.16872 &  7.918501 & 0.5433605 & 35.4940 & 15.9546 &  8.87237 & -16.378376 & 24.9171 & 0\\\\\n",
       "\t6 & 40.25020 & 13.921907 & 25.12495 & 26.32829 & 130.32787 &  2.230652 & 0.7899929 & 29.3230 & 12.0036 & 10.40462 &  -1.512209 &  9.6548 & 0\\\\\n",
       "\\end{tabular}\n"
      ],
      "text/markdown": [
       "\n",
       "A data.frame: 6 × 13\n",
       "\n",
       "| <!--/--> | pelvic_incidence &lt;dbl&gt; | pelvic_tilt &lt;dbl&gt; | lumbar_lordosis_angle &lt;dbl&gt; | sacral_slope &lt;dbl&gt; | pelvic_radius &lt;dbl&gt; | degree_spondylolisthesis &lt;dbl&gt; | pelvic_slope &lt;dbl&gt; | direct_tilt &lt;dbl&gt; | thoracic_slope &lt;dbl&gt; | cervical_tilt &lt;dbl&gt; | sacrum_angle &lt;dbl&gt; | scoliosis_slope &lt;dbl&gt; | pain &lt;int&gt; |\n",
       "|---|---|---|---|---|---|---|---|---|---|---|---|---|---|\n",
       "| 1 | 63.02782 | 22.552586 | 39.60912 | 40.47523 |  98.67292 | -0.254400 | 0.7445035 | 12.5661 | 14.5386 | 15.30468 | -28.658501 | 43.5123 | 0 |\n",
       "| 2 | 39.05695 | 10.060991 | 25.01538 | 28.99596 | 114.40543 |  4.564259 | 0.4151857 | 12.8874 | 17.5323 | 16.78486 | -25.530607 | 16.1102 | 0 |\n",
       "| 3 | 68.83202 | 22.218482 | 50.09219 | 46.61354 | 105.98514 | -3.530317 | 0.4748892 | 26.8343 | 17.4861 | 16.65897 | -29.031888 | 19.2221 | 0 |\n",
       "| 4 | 69.29701 | 24.652878 | 44.31124 | 44.64413 | 101.86850 | 11.211523 | 0.3693453 | 23.5603 | 12.7074 | 11.42447 | -30.470246 | 18.8329 | 0 |\n",
       "| 5 | 49.71286 |  9.652075 | 28.31741 | 40.06078 | 108.16872 |  7.918501 | 0.5433605 | 35.4940 | 15.9546 |  8.87237 | -16.378376 | 24.9171 | 0 |\n",
       "| 6 | 40.25020 | 13.921907 | 25.12495 | 26.32829 | 130.32787 |  2.230652 | 0.7899929 | 29.3230 | 12.0036 | 10.40462 |  -1.512209 |  9.6548 | 0 |\n",
       "\n"
      ],
      "text/plain": [
       "  pelvic_incidence pelvic_tilt lumbar_lordosis_angle sacral_slope pelvic_radius\n",
       "1 63.02782         22.552586   39.60912              40.47523      98.67292    \n",
       "2 39.05695         10.060991   25.01538              28.99596     114.40543    \n",
       "3 68.83202         22.218482   50.09219              46.61354     105.98514    \n",
       "4 69.29701         24.652878   44.31124              44.64413     101.86850    \n",
       "5 49.71286          9.652075   28.31741              40.06078     108.16872    \n",
       "6 40.25020         13.921907   25.12495              26.32829     130.32787    \n",
       "  degree_spondylolisthesis pelvic_slope direct_tilt thoracic_slope\n",
       "1 -0.254400                0.7445035    12.5661     14.5386       \n",
       "2  4.564259                0.4151857    12.8874     17.5323       \n",
       "3 -3.530317                0.4748892    26.8343     17.4861       \n",
       "4 11.211523                0.3693453    23.5603     12.7074       \n",
       "5  7.918501                0.5433605    35.4940     15.9546       \n",
       "6  2.230652                0.7899929    29.3230     12.0036       \n",
       "  cervical_tilt sacrum_angle scoliosis_slope pain\n",
       "1 15.30468      -28.658501   43.5123         0   \n",
       "2 16.78486      -25.530607   16.1102         0   \n",
       "3 16.65897      -29.031888   19.2221         0   \n",
       "4 11.42447      -30.470246   18.8329         0   \n",
       "5  8.87237      -16.378376   24.9171         0   \n",
       "6 10.40462       -1.512209    9.6548         0   "
      ]
     },
     "metadata": {},
     "output_type": "display_data"
    }
   ],
   "source": [
    "head(spine)"
   ]
  },
  {
   "cell_type": "markdown",
   "id": "d428c7da-2688-4633-9fe6-b8233c29e2fb",
   "metadata": {},
   "source": [
    "## Create a Baseline Model with All Variables"
   ]
  },
  {
   "cell_type": "code",
   "execution_count": 9,
   "id": "e46ed8b1-cac1-4ff4-928a-2c5edea7fcfa",
   "metadata": {},
   "outputs": [],
   "source": [
    "FitAll = lm(pain ~ ., data = spine)"
   ]
  },
  {
   "cell_type": "code",
   "execution_count": 10,
   "id": "c5c92bcb-0b3f-4442-b8e2-4c94cb514cf5",
   "metadata": {},
   "outputs": [
    {
     "data": {
      "text/plain": [
       "\n",
       "Call:\n",
       "lm(formula = pain ~ ., data = spine)\n",
       "\n",
       "Coefficients:\n",
       "             (Intercept)          pelvic_incidence               pelvic_tilt  \n",
       "              -1.0711431                 0.0078974                -0.0135797  \n",
       "   lumbar_lordosis_angle              sacral_slope             pelvic_radius  \n",
       "              -0.0033551                        NA                 0.0130333  \n",
       "degree_spondylolisthesis              pelvic_slope               direct_tilt  \n",
       "              -0.0053331                -0.0373987                -0.0011014  \n",
       "          thoracic_slope             cervical_tilt              sacrum_angle  \n",
       "               0.0005187                -0.0074198                -0.0005334  \n",
       "         scoliosis_slope  \n",
       "               0.0018409  \n"
      ]
     },
     "metadata": {},
     "output_type": "display_data"
    }
   ],
   "source": [
    "FitAll"
   ]
  },
  {
   "cell_type": "markdown",
   "id": "55383657-6b44-42ae-9714-29a5ddd9f4bb",
   "metadata": {},
   "source": [
    "## Backward Stepwise Regression"
   ]
  },
  {
   "cell_type": "code",
   "execution_count": 12,
   "id": "6e66fce1-dd54-4d81-b4e4-140cb5dda3c5",
   "metadata": {},
   "outputs": [
    {
     "name": "stdout",
     "output_type": "stream",
     "text": [
      "Start:  AIC=-579.4\n",
      "pain ~ pelvic_incidence + pelvic_tilt + lumbar_lordosis_angle + \n",
      "    sacral_slope + pelvic_radius + degree_spondylolisthesis + \n",
      "    pelvic_slope + direct_tilt + thoracic_slope + cervical_tilt + \n",
      "    sacrum_angle + scoliosis_slope\n",
      "\n",
      "\n",
      "Step:  AIC=-579.4\n",
      "pain ~ pelvic_incidence + pelvic_tilt + lumbar_lordosis_angle + \n",
      "    pelvic_radius + degree_spondylolisthesis + pelvic_slope + \n",
      "    direct_tilt + thoracic_slope + cervical_tilt + sacrum_angle + \n",
      "    scoliosis_slope\n",
      "\n",
      "                           Df Sum of Sq    RSS     AIC\n",
      "- thoracic_slope            1    0.0009 44.263 -581.39\n",
      "- sacrum_angle              1    0.0130 44.275 -581.31\n",
      "- direct_tilt               1    0.0272 44.289 -581.21\n",
      "- pelvic_slope              1    0.0344 44.296 -581.16\n",
      "- scoliosis_slope           1    0.1122 44.374 -580.61\n",
      "- cervical_tilt             1    0.1374 44.399 -580.44\n",
      "<none>                                  44.262 -579.40\n",
      "- lumbar_lordosis_angle     1    0.5460 44.808 -577.60\n",
      "- pelvic_incidence          1    1.4589 45.721 -571.35\n",
      "- pelvic_tilt               1    3.1698 47.432 -559.96\n",
      "- degree_spondylolisthesis  1    6.9248 51.187 -536.34\n",
      "- pelvic_radius             1    7.6596 51.922 -531.92\n",
      "\n",
      "Step:  AIC=-581.39\n",
      "pain ~ pelvic_incidence + pelvic_tilt + lumbar_lordosis_angle + \n",
      "    pelvic_radius + degree_spondylolisthesis + pelvic_slope + \n",
      "    direct_tilt + cervical_tilt + sacrum_angle + scoliosis_slope\n",
      "\n",
      "                           Df Sum of Sq    RSS     AIC\n",
      "- sacrum_angle              1    0.0129 44.276 -583.30\n",
      "- direct_tilt               1    0.0272 44.290 -583.20\n",
      "- pelvic_slope              1    0.0346 44.297 -583.15\n",
      "- scoliosis_slope           1    0.1123 44.375 -582.61\n",
      "- cervical_tilt             1    0.1365 44.399 -582.44\n",
      "<none>                                  44.263 -581.39\n",
      "- lumbar_lordosis_angle     1    0.5466 44.809 -579.59\n",
      "- pelvic_incidence          1    1.4580 45.721 -573.35\n",
      "- pelvic_tilt               1    3.1741 47.437 -561.92\n",
      "- degree_spondylolisthesis  1    6.9271 51.190 -538.32\n",
      "- pelvic_radius             1    7.6859 51.949 -533.76\n",
      "\n",
      "Step:  AIC=-583.3\n",
      "pain ~ pelvic_incidence + pelvic_tilt + lumbar_lordosis_angle + \n",
      "    pelvic_radius + degree_spondylolisthesis + pelvic_slope + \n",
      "    direct_tilt + cervical_tilt + scoliosis_slope\n",
      "\n",
      "                           Df Sum of Sq    RSS     AIC\n",
      "- direct_tilt               1    0.0259 44.302 -585.12\n",
      "- pelvic_slope              1    0.0372 44.313 -585.04\n",
      "- scoliosis_slope           1    0.1106 44.386 -584.53\n",
      "- cervical_tilt             1    0.1411 44.417 -584.32\n",
      "<none>                                  44.276 -583.30\n",
      "- lumbar_lordosis_angle     1    0.5572 44.833 -581.42\n",
      "- pelvic_incidence          1    1.4661 45.742 -575.20\n",
      "- pelvic_tilt               1    3.1845 47.460 -563.77\n",
      "- degree_spondylolisthesis  1    6.9243 51.200 -540.26\n",
      "- pelvic_radius             1    7.6752 51.951 -535.74\n",
      "\n",
      "Step:  AIC=-585.12\n",
      "pain ~ pelvic_incidence + pelvic_tilt + lumbar_lordosis_angle + \n",
      "    pelvic_radius + degree_spondylolisthesis + pelvic_slope + \n",
      "    cervical_tilt + scoliosis_slope\n",
      "\n",
      "                           Df Sum of Sq    RSS     AIC\n",
      "- pelvic_slope              1    0.0374 44.339 -586.86\n",
      "- scoliosis_slope           1    0.1146 44.416 -586.32\n",
      "- cervical_tilt             1    0.1531 44.455 -586.05\n",
      "<none>                                  44.302 -585.12\n",
      "- lumbar_lordosis_angle     1    0.5390 44.841 -583.37\n",
      "- pelvic_incidence          1    1.4487 45.750 -577.15\n",
      "- pelvic_tilt               1    3.1624 47.464 -565.75\n",
      "- degree_spondylolisthesis  1    6.9073 51.209 -542.20\n",
      "- pelvic_radius             1    7.6519 51.954 -537.73\n",
      "\n",
      "Step:  AIC=-586.86\n",
      "pain ~ pelvic_incidence + pelvic_tilt + lumbar_lordosis_angle + \n",
      "    pelvic_radius + degree_spondylolisthesis + cervical_tilt + \n",
      "    scoliosis_slope\n",
      "\n",
      "                           Df Sum of Sq    RSS     AIC\n",
      "- scoliosis_slope           1    0.1255 44.465 -587.98\n",
      "- cervical_tilt             1    0.1683 44.507 -587.68\n",
      "<none>                                  44.339 -586.86\n",
      "- lumbar_lordosis_angle     1    0.5315 44.871 -585.16\n",
      "- pelvic_incidence          1    1.4366 45.776 -578.97\n",
      "- pelvic_tilt               1    3.1409 47.480 -567.64\n",
      "- degree_spondylolisthesis  1    7.0013 51.340 -543.41\n",
      "- pelvic_radius             1    7.6274 51.967 -539.65\n",
      "\n",
      "Step:  AIC=-587.98\n",
      "pain ~ pelvic_incidence + pelvic_tilt + lumbar_lordosis_angle + \n",
      "    pelvic_radius + degree_spondylolisthesis + cervical_tilt\n",
      "\n",
      "                           Df Sum of Sq    RSS     AIC\n",
      "- cervical_tilt             1    0.1598 44.624 -588.87\n",
      "<none>                                  44.465 -587.98\n",
      "- lumbar_lordosis_angle     1    0.5655 45.030 -586.06\n",
      "- pelvic_incidence          1    1.5098 45.974 -579.63\n",
      "- pelvic_tilt               1    3.2421 47.707 -568.16\n",
      "- degree_spondylolisthesis  1    7.0887 51.553 -544.13\n",
      "- pelvic_radius             1    7.6311 52.096 -540.88\n",
      "\n",
      "Step:  AIC=-588.87\n",
      "pain ~ pelvic_incidence + pelvic_tilt + lumbar_lordosis_angle + \n",
      "    pelvic_radius + degree_spondylolisthesis\n",
      "\n",
      "                           Df Sum of Sq    RSS     AIC\n",
      "<none>                                  44.624 -588.87\n",
      "- lumbar_lordosis_angle     1    0.6157 45.240 -586.62\n",
      "- pelvic_incidence          1    1.6067 46.231 -579.91\n",
      "- pelvic_tilt               1    3.3102 47.935 -568.69\n",
      "- degree_spondylolisthesis  1    7.2437 51.868 -544.24\n",
      "- pelvic_radius             1    7.8121 52.437 -540.86\n"
     ]
    },
    {
     "data": {
      "text/plain": [
       "\n",
       "Call:\n",
       "lm(formula = pain ~ pelvic_incidence + pelvic_tilt + lumbar_lordosis_angle + \n",
       "    pelvic_radius + degree_spondylolisthesis, data = spine)\n",
       "\n",
       "Coefficients:\n",
       "             (Intercept)          pelvic_incidence               pelvic_tilt  \n",
       "               -1.147936                  0.008213                 -0.013794  \n",
       "   lumbar_lordosis_angle             pelvic_radius  degree_spondylolisthesis  \n",
       "               -0.003522                  0.013070                 -0.005427  \n"
      ]
     },
     "metadata": {},
     "output_type": "display_data"
    }
   ],
   "source": [
    "step(FitAll, direction = 'backward')"
   ]
  },
  {
   "cell_type": "markdown",
   "id": "52968e7e-a3ea-406b-9955-9ef1e9dc4ac8",
   "metadata": {},
   "source": [
    "## The following 5 attributes have the most influence on back pain out of all 11 attributes:\n",
    "### pelvic_incidence\n",
    "### pelvic_radius\n",
    "### pelvic_tilt\n",
    "### degree_spondylolisthesis\n",
    "### lumbar_lordosis_angle"
   ]
  },
  {
   "cell_type": "markdown",
   "id": "fd4abb45-484f-4294-b2f0-fd7957cf0329",
   "metadata": {},
   "source": [
    "## Create New Model with 5 Variables and Compare to Model with All"
   ]
  },
  {
   "cell_type": "code",
   "execution_count": 14,
   "id": "53f30354-bf10-4bf4-b64d-01103535fd9b",
   "metadata": {},
   "outputs": [],
   "source": [
    "fitsome = lm(pain ~ pelvic_incidence + pelvic_radius + pelvic_tilt + degree_spondylolisthesis + lumbar_lordosis_angle, data = spine)"
   ]
  },
  {
   "cell_type": "code",
   "execution_count": 15,
   "id": "95152f60-1732-4a6f-a873-1b819c36882a",
   "metadata": {},
   "outputs": [
    {
     "data": {
      "text/plain": [
       "\n",
       "Call:\n",
       "lm(formula = pain ~ pelvic_incidence + pelvic_radius + pelvic_tilt + \n",
       "    degree_spondylolisthesis + lumbar_lordosis_angle, data = spine)\n",
       "\n",
       "Coefficients:\n",
       "             (Intercept)          pelvic_incidence             pelvic_radius  \n",
       "               -1.147936                  0.008213                  0.013070  \n",
       "             pelvic_tilt  degree_spondylolisthesis     lumbar_lordosis_angle  \n",
       "               -0.013794                 -0.005427                 -0.003522  \n"
      ]
     },
     "metadata": {},
     "output_type": "display_data"
    }
   ],
   "source": [
    "fitsome"
   ]
  },
  {
   "cell_type": "markdown",
   "id": "0ae5c05e-b245-41e3-9deb-ca78438308a6",
   "metadata": {},
   "source": [
    "### I need to compare p values, where is it?!"
   ]
  },
  {
   "cell_type": "code",
   "execution_count": null,
   "id": "4f4f527c-a71f-45ea-b05e-a06a3a001992",
   "metadata": {},
   "outputs": [],
   "source": []
  }
 ],
 "metadata": {
  "kernelspec": {
   "display_name": "R",
   "language": "R",
   "name": "ir"
  },
  "language_info": {
   "codemirror_mode": "r",
   "file_extension": ".r",
   "mimetype": "text/x-r-source",
   "name": "R",
   "pygments_lexer": "r",
   "version": "4.1.2"
  }
 },
 "nbformat": 4,
 "nbformat_minor": 5
}
