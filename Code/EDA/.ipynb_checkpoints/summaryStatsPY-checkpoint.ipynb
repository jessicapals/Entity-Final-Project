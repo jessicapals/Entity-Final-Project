{
 "cells": [
  {
   "cell_type": "code",
   "execution_count": 1,
   "id": "af639bf2-10c8-45ec-81f7-fdfabd33f657",
   "metadata": {},
   "outputs": [],
   "source": [
    "import pandas as pd"
   ]
  },
  {
   "cell_type": "code",
   "execution_count": 2,
   "id": "31e5930a-e5ea-4778-b5ce-801830ca25ea",
   "metadata": {},
   "outputs": [],
   "source": [
    "spine = pd.read_csv(\"spine.csv\")"
   ]
  },
  {
   "cell_type": "markdown",
   "id": "4a8a005e-fdb0-4f3a-a508-b39c01ef7ef5",
   "metadata": {},
   "source": [
    "## Summary Statistics for 5 Most Influential Attributes on Pain"
   ]
  },
  {
   "cell_type": "code",
   "execution_count": 4,
   "id": "0e8ca6c5-bc08-447e-9b72-e17434614f4b",
   "metadata": {},
   "outputs": [
    {
     "data": {
      "text/html": [
       "<div>\n",
       "<style scoped>\n",
       "    .dataframe tbody tr th:only-of-type {\n",
       "        vertical-align: middle;\n",
       "    }\n",
       "\n",
       "    .dataframe tbody tr th {\n",
       "        vertical-align: top;\n",
       "    }\n",
       "\n",
       "    .dataframe thead th {\n",
       "        text-align: right;\n",
       "    }\n",
       "</style>\n",
       "<table border=\"1\" class=\"dataframe\">\n",
       "  <thead>\n",
       "    <tr style=\"text-align: right;\">\n",
       "      <th></th>\n",
       "      <th>pelvic_incidence</th>\n",
       "      <th>pelvic_radius</th>\n",
       "      <th>pelvic_tilt</th>\n",
       "      <th>degree_spondylolisthesis</th>\n",
       "      <th>lumbar_lordosis_angle</th>\n",
       "    </tr>\n",
       "  </thead>\n",
       "  <tbody>\n",
       "    <tr>\n",
       "      <th>count</th>\n",
       "      <td>310.00</td>\n",
       "      <td>310.00</td>\n",
       "      <td>310.00</td>\n",
       "      <td>310.00</td>\n",
       "      <td>310.00</td>\n",
       "    </tr>\n",
       "    <tr>\n",
       "      <th>mean</th>\n",
       "      <td>60.50</td>\n",
       "      <td>117.92</td>\n",
       "      <td>17.54</td>\n",
       "      <td>26.30</td>\n",
       "      <td>51.93</td>\n",
       "    </tr>\n",
       "    <tr>\n",
       "      <th>std</th>\n",
       "      <td>17.24</td>\n",
       "      <td>13.32</td>\n",
       "      <td>10.01</td>\n",
       "      <td>37.56</td>\n",
       "      <td>18.55</td>\n",
       "    </tr>\n",
       "    <tr>\n",
       "      <th>min</th>\n",
       "      <td>26.15</td>\n",
       "      <td>70.08</td>\n",
       "      <td>-6.55</td>\n",
       "      <td>-11.06</td>\n",
       "      <td>14.00</td>\n",
       "    </tr>\n",
       "    <tr>\n",
       "      <th>25%</th>\n",
       "      <td>46.43</td>\n",
       "      <td>110.71</td>\n",
       "      <td>10.67</td>\n",
       "      <td>1.60</td>\n",
       "      <td>37.00</td>\n",
       "    </tr>\n",
       "    <tr>\n",
       "      <th>50%</th>\n",
       "      <td>58.69</td>\n",
       "      <td>118.27</td>\n",
       "      <td>16.36</td>\n",
       "      <td>11.77</td>\n",
       "      <td>49.56</td>\n",
       "    </tr>\n",
       "    <tr>\n",
       "      <th>75%</th>\n",
       "      <td>72.88</td>\n",
       "      <td>125.47</td>\n",
       "      <td>22.12</td>\n",
       "      <td>41.29</td>\n",
       "      <td>63.00</td>\n",
       "    </tr>\n",
       "    <tr>\n",
       "      <th>max</th>\n",
       "      <td>129.83</td>\n",
       "      <td>163.07</td>\n",
       "      <td>49.43</td>\n",
       "      <td>418.54</td>\n",
       "      <td>125.74</td>\n",
       "    </tr>\n",
       "  </tbody>\n",
       "</table>\n",
       "</div>"
      ],
      "text/plain": [
       "      pelvic_incidence pelvic_radius pelvic_tilt degree_spondylolisthesis  \\\n",
       "count           310.00        310.00      310.00                   310.00   \n",
       "mean             60.50        117.92       17.54                    26.30   \n",
       "std              17.24         13.32       10.01                    37.56   \n",
       "min              26.15         70.08       -6.55                   -11.06   \n",
       "25%              46.43        110.71       10.67                     1.60   \n",
       "50%              58.69        118.27       16.36                    11.77   \n",
       "75%              72.88        125.47       22.12                    41.29   \n",
       "max             129.83        163.07       49.43                   418.54   \n",
       "\n",
       "      lumbar_lordosis_angle  \n",
       "count                310.00  \n",
       "mean                  51.93  \n",
       "std                   18.55  \n",
       "min                   14.00  \n",
       "25%                   37.00  \n",
       "50%                   49.56  \n",
       "75%                   63.00  \n",
       "max                  125.74  "
      ]
     },
     "execution_count": 4,
     "metadata": {},
     "output_type": "execute_result"
    }
   ],
   "source": [
    "spine[['pelvic_incidence', 'pelvic_radius', 'pelvic_tilt', \n",
    "    'degree_spondylolisthesis', 'lumbar_lordosis_angle']].describe().applymap(lambda x: f\"{x:0.2f}\")"
   ]
  },
  {
   "cell_type": "code",
   "execution_count": null,
   "id": "fbe64e24-b7e8-42ef-a5be-7386f4699412",
   "metadata": {},
   "outputs": [],
   "source": []
  }
 ],
 "metadata": {
  "kernelspec": {
   "display_name": "Python 3 (ipykernel)",
   "language": "python",
   "name": "python3"
  },
  "language_info": {
   "codemirror_mode": {
    "name": "ipython",
    "version": 3
   },
   "file_extension": ".py",
   "mimetype": "text/x-python",
   "name": "python",
   "nbconvert_exporter": "python",
   "pygments_lexer": "ipython3",
   "version": "3.9.10"
  }
 },
 "nbformat": 4,
 "nbformat_minor": 5
}
